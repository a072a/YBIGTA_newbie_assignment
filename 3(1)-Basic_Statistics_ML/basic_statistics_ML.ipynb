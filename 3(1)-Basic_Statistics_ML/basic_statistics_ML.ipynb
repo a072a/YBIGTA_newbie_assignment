{
 "cells": [
  {
   "cell_type": "markdown",
   "id": "6ac5dbea",
   "metadata": {},
   "source": [
    "과제 1"
   ]
  },
  {
   "cell_type": "code",
   "execution_count": 2,
   "id": "4196646e",
   "metadata": {},
   "outputs": [
    {
     "data": {
      "text/html": [
       "<div>\n",
       "<style scoped>\n",
       "    .dataframe tbody tr th:only-of-type {\n",
       "        vertical-align: middle;\n",
       "    }\n",
       "\n",
       "    .dataframe tbody tr th {\n",
       "        vertical-align: top;\n",
       "    }\n",
       "\n",
       "    .dataframe thead th {\n",
       "        text-align: right;\n",
       "    }\n",
       "</style>\n",
       "<table border=\"1\" class=\"dataframe\">\n",
       "  <thead>\n",
       "    <tr style=\"text-align: right;\">\n",
       "      <th></th>\n",
       "      <th>sepal_length</th>\n",
       "      <th>sepal_width</th>\n",
       "      <th>petal_length</th>\n",
       "      <th>petal_width</th>\n",
       "      <th>species</th>\n",
       "    </tr>\n",
       "  </thead>\n",
       "  <tbody>\n",
       "    <tr>\n",
       "      <th>0</th>\n",
       "      <td>5.1</td>\n",
       "      <td>3.5</td>\n",
       "      <td>1.4</td>\n",
       "      <td>0.2</td>\n",
       "      <td>setosa</td>\n",
       "    </tr>\n",
       "    <tr>\n",
       "      <th>1</th>\n",
       "      <td>4.9</td>\n",
       "      <td>3.0</td>\n",
       "      <td>1.4</td>\n",
       "      <td>0.2</td>\n",
       "      <td>setosa</td>\n",
       "    </tr>\n",
       "    <tr>\n",
       "      <th>2</th>\n",
       "      <td>4.7</td>\n",
       "      <td>3.2</td>\n",
       "      <td>1.3</td>\n",
       "      <td>0.2</td>\n",
       "      <td>setosa</td>\n",
       "    </tr>\n",
       "    <tr>\n",
       "      <th>3</th>\n",
       "      <td>4.6</td>\n",
       "      <td>3.1</td>\n",
       "      <td>1.5</td>\n",
       "      <td>0.2</td>\n",
       "      <td>setosa</td>\n",
       "    </tr>\n",
       "    <tr>\n",
       "      <th>4</th>\n",
       "      <td>5.0</td>\n",
       "      <td>3.6</td>\n",
       "      <td>1.4</td>\n",
       "      <td>0.2</td>\n",
       "      <td>setosa</td>\n",
       "    </tr>\n",
       "  </tbody>\n",
       "</table>\n",
       "</div>"
      ],
      "text/plain": [
       "   sepal_length  sepal_width  petal_length  petal_width species\n",
       "0           5.1          3.5           1.4          0.2  setosa\n",
       "1           4.9          3.0           1.4          0.2  setosa\n",
       "2           4.7          3.2           1.3          0.2  setosa\n",
       "3           4.6          3.1           1.5          0.2  setosa\n",
       "4           5.0          3.6           1.4          0.2  setosa"
      ]
     },
     "execution_count": 2,
     "metadata": {},
     "output_type": "execute_result"
    }
   ],
   "source": [
    "# 1. 데이터셋 불러오기\n",
    "import seaborn as sns\n",
    "iris = sns.load_dataset('iris')\n",
    "iris.head()"
   ]
  },
  {
   "cell_type": "code",
   "execution_count": 3,
   "id": "083b895d",
   "metadata": {},
   "outputs": [
    {
     "data": {
      "text/html": [
       "<div>\n",
       "<style scoped>\n",
       "    .dataframe tbody tr th:only-of-type {\n",
       "        vertical-align: middle;\n",
       "    }\n",
       "\n",
       "    .dataframe tbody tr th {\n",
       "        vertical-align: top;\n",
       "    }\n",
       "\n",
       "    .dataframe thead th {\n",
       "        text-align: right;\n",
       "    }\n",
       "</style>\n",
       "<table border=\"1\" class=\"dataframe\">\n",
       "  <thead>\n",
       "    <tr style=\"text-align: right;\">\n",
       "      <th></th>\n",
       "      <th>count</th>\n",
       "      <th>mean</th>\n",
       "      <th>std</th>\n",
       "      <th>min</th>\n",
       "      <th>25%</th>\n",
       "      <th>50%</th>\n",
       "      <th>75%</th>\n",
       "      <th>max</th>\n",
       "    </tr>\n",
       "    <tr>\n",
       "      <th>species</th>\n",
       "      <th></th>\n",
       "      <th></th>\n",
       "      <th></th>\n",
       "      <th></th>\n",
       "      <th></th>\n",
       "      <th></th>\n",
       "      <th></th>\n",
       "      <th></th>\n",
       "    </tr>\n",
       "  </thead>\n",
       "  <tbody>\n",
       "    <tr>\n",
       "      <th>setosa</th>\n",
       "      <td>50.0</td>\n",
       "      <td>1.462</td>\n",
       "      <td>0.173664</td>\n",
       "      <td>1.0</td>\n",
       "      <td>1.4</td>\n",
       "      <td>1.50</td>\n",
       "      <td>1.575</td>\n",
       "      <td>1.9</td>\n",
       "    </tr>\n",
       "    <tr>\n",
       "      <th>versicolor</th>\n",
       "      <td>50.0</td>\n",
       "      <td>4.260</td>\n",
       "      <td>0.469911</td>\n",
       "      <td>3.0</td>\n",
       "      <td>4.0</td>\n",
       "      <td>4.35</td>\n",
       "      <td>4.600</td>\n",
       "      <td>5.1</td>\n",
       "    </tr>\n",
       "    <tr>\n",
       "      <th>virginica</th>\n",
       "      <td>50.0</td>\n",
       "      <td>5.552</td>\n",
       "      <td>0.551895</td>\n",
       "      <td>4.5</td>\n",
       "      <td>5.1</td>\n",
       "      <td>5.55</td>\n",
       "      <td>5.875</td>\n",
       "      <td>6.9</td>\n",
       "    </tr>\n",
       "  </tbody>\n",
       "</table>\n",
       "</div>"
      ],
      "text/plain": [
       "            count   mean       std  min  25%   50%    75%  max\n",
       "species                                                       \n",
       "setosa       50.0  1.462  0.173664  1.0  1.4  1.50  1.575  1.9\n",
       "versicolor   50.0  4.260  0.469911  3.0  4.0  4.35  4.600  5.1\n",
       "virginica    50.0  5.552  0.551895  4.5  5.1  5.55  5.875  6.9"
      ]
     },
     "execution_count": 3,
     "metadata": {},
     "output_type": "execute_result"
    }
   ],
   "source": [
    "# 2. 기초통계량 산출\n",
    "iris.groupby(\"species\")[\"petal_length\"].describe()"
   ]
  },
  {
   "cell_type": "code",
   "execution_count": 4,
   "id": "2b7b060f",
   "metadata": {},
   "outputs": [
    {
     "data": {
      "text/plain": [
       "species\n",
       "setosa        50\n",
       "versicolor    50\n",
       "virginica     50\n",
       "Name: count, dtype: int64"
      ]
     },
     "execution_count": 4,
     "metadata": {},
     "output_type": "execute_result"
    }
   ],
   "source": [
    "# 2. 그룹별 데이터 개수\n",
    "iris[\"species\"].value_counts()"
   ]
  },
  {
   "cell_type": "code",
   "execution_count": 5,
   "id": "4ab9c7e2",
   "metadata": {},
   "outputs": [
    {
     "data": {
      "image/png": "[encoded data removed]",
      "text/plain": [
       "<Figure size 700x500 with 1 Axes>"
      ]
     },
     "metadata": {},
     "output_type": "display_data"
    }
   ],
   "source": [
    "# 3. 시각화\n",
    "import matplotlib.pyplot as plt\n",
    "\n",
    "plt.figure(figsize=(7, 5))\n",
    "sns.boxplot(x='species', y='petal_length', data=iris)\n",
    "plt.title('Distribution of Petal Length by Species')\n",
    "plt.figtext(0.5, -0.1, \"Virginica has the longest petal length,\\nsetosa has the shortest.\", ha='center', fontsize=12)\n",
    "plt.show()"
   ]
  },
  {
   "cell_type": "code",
   "execution_count": 6,
   "id": "0f1af98d",
   "metadata": {},
   "outputs": [
    {
     "name": "stdout",
     "output_type": "stream",
     "text": [
      "귀무가설(H₀): 각 species의 Petal Length는 정규분포를 따른다.\n",
      "대립가설(H₁): 각 species의 Petal Length는 정규분포를 따르지 않는다.\n",
      "\n",
      "setosa: p-value = 0.0548\n",
      " 귀무가설(H₀) 채택,  p-value가 유의수준 0.05보다 크기 때문에 setosa의 Petal Length가 정규분포를 따른다고 볼 수 있다. \n",
      "\n",
      "versicolor: p-value = 0.1585\n",
      " 귀무가설(H₀) 채택,  p-value가 유의수준 0.05보다 크기 때문에 versicolor의 Petal Length가 정규분포를 따른다고 볼 수 있다. \n",
      "\n",
      "virginica: p-value = 0.1098\n",
      " 귀무가설(H₀) 채택,  p-value가 유의수준 0.05보다 크기 때문에 virginica의 Petal Length가 정규분포를 따른다고 볼 수 있다. \n",
      "\n"
     ]
    }
   ],
   "source": [
    "#4. 정규성 검정\n",
    "from scipy.stats import shapiro\n",
    "\n",
    "# 가설 수립\n",
    "print(\"귀무가설(H₀): 각 species의 Petal Length는 정규분포를 따른다.\")\n",
    "print(\"대립가설(H₁): 각 species의 Petal Length는 정규분포를 따르지 않는다.\\n\")\n",
    "\n",
    "# Speices별 정규성 검정\n",
    "for species in iris['species'].unique():\n",
    "    petal = iris.loc[iris['species'] == species, 'petal_length']\n",
    "    stat , p = shapiro(petal)\n",
    "    print(f\"{species}: p-value = {p:.4f}\")\n",
    "    if p > 0.05:\n",
    "        print(f\" 귀무가설(H₀) 채택,  p-value가 유의수준 0.05보다 크기 때문에 {species}의 Petal Length가 정규분포를 따른다고 볼 수 있다. \")\n",
    "    else: \n",
    "        print(f\"귀무가설(H₀) 기각, p-value가 유의수준 0.05보다 작기 때문에 {species}의 Petal Length가 정규분포를 따른다고 보기 어렵다.\")\n",
    "    print()"
   ]
  },
  {
   "cell_type": "code",
   "execution_count": 7,
   "id": "1452ea13",
   "metadata": {},
   "outputs": [
    {
     "name": "stdout",
     "output_type": "stream",
     "text": [
      "귀무가설(H₀): 세 species의 Petal Length 분산은 모두 같다(등분산이다).\n",
      "대립가설(H₁): 적어도 한 species의 Petal Length 분산이 다르다.\n",
      "\n",
      "Levene 등분산성 검정 p-value = 3.1287566394085344e-08\n",
      "귀무가설(H₀) 기각, p-value가 유의수준 0.05보다 작기 때문에 등분산성을 만족한다고 보기 어렵다.\n"
     ]
    }
   ],
   "source": [
    "# 5. 등분산성 검정\n",
    "from scipy.stats import levene\n",
    "\n",
    "#가설 수립\n",
    "print(\"귀무가설(H₀): 세 species의 Petal Length 분산은 모두 같다(등분산이다).\")\n",
    "print(\"대립가설(H₁): 적어도 한 species의 Petal Length 분산이 다르다.\\n\")\n",
    "\n",
    "setosa = iris.loc[iris['species'] == 'setosa', 'petal_length']\n",
    "versicolor = iris.loc[iris['species'] == 'versicolor', 'petal_length']\n",
    "virginica = iris.loc[iris['species'] == 'virginica', 'petal_length']\n",
    "\n",
    "#등분산성 검정\n",
    "stat, p = levene(setosa, versicolor, virginica)\n",
    "print(f\"Levene 등분산성 검정 p-value = {p}\")\n",
    "\n",
    "if p > 0.05:\n",
    "    print(\"귀무가설(H₀) 채택, p-value가 유의수준 0.05보다 크기 때문에 등분산성을 만족한다고 볼 수 있다.\")\n",
    "else:\n",
    "    print(\"귀무가설(H₀) 기각, p-value가 유의수준 0.05보다 작기 때문에 등분산성을 만족한다고 보기 어렵다.\")"
   ]
  },
  {
   "cell_type": "code",
   "execution_count": 8,
   "id": "142791cf",
   "metadata": {},
   "outputs": [
    {
     "name": "stdout",
     "output_type": "stream",
     "text": [
      "귀무가설(H₀): 3개 species의 평균 petal_length는 모두 같다.\n",
      "대립가설(H₁): 적어도 한 species의 평균 petal_length는 다르다.\n"
     ]
    }
   ],
   "source": [
    "# 6. 가설 수립\n",
    "print(\"귀무가설(H₀): 3개 species의 평균 petal_length는 모두 같다.\")\n",
    "print(\"대립가설(H₁): 적어도 한 species의 평균 petal_length는 다르다.\")\n"
   ]
  },
  {
   "cell_type": "code",
   "execution_count": 9,
   "id": "a8a781f6",
   "metadata": {},
   "outputs": [
    {
     "name": "stdout",
     "output_type": "stream",
     "text": [
      "              sum_sq     df            F        PR(>F)\n",
      "C(species)  437.1028    2.0  1180.161182  2.856777e-91\n",
      "Residual     27.2226  147.0          NaN           NaN\n",
      "\n",
      "ANOVA p-value: 2.8568e-91\n",
      "귀무가설(H₀) 기각: 3개 종의 평균이 통계적으로 유의미하게 다르다.\n"
     ]
    }
   ],
   "source": [
    "# 7. ANOVA\n",
    "import statsmodels.api as sm\n",
    "from statsmodels.formula.api import ols\n",
    "\n",
    "model = ols('petal_length ~ C(species)', data=iris).fit()\n",
    "\n",
    "anova_table = sm.stats.anova_lm(model, typ=2)\n",
    "print(anova_table)\n",
    "\n",
    "p = anova_table['PR(>F)'].iloc[0]\n",
    "print(f\"\\nANOVA p-value: {p:.4e}\")\n",
    "\n",
    "if p > 0.05:\n",
    "    print(\"귀무가설(H₀) 채택: 3개 종의 평균에 유의미한 차이가 없다고 볼 수 있다.\")\n",
    "else:\n",
    "    print(\"귀무가설(H₀) 기각: 3개 종의 평균이 통계적으로 유의미하게 다르다.\")\n"
   ]
  },
  {
   "cell_type": "code",
   "execution_count": 10,
   "id": "664d7075",
   "metadata": {},
   "outputs": [
    {
     "name": "stdout",
     "output_type": "stream",
     "text": [
      "   Multiple Comparison of Means - Tukey HSD, FWER=0.05   \n",
      "=========================================================\n",
      "  group1     group2   meandiff p-adj lower  upper  reject\n",
      "---------------------------------------------------------\n",
      "    setosa versicolor    2.798   0.0 2.5942 3.0018   True\n",
      "    setosa  virginica     4.09   0.0 3.8862 4.2938   True\n",
      "versicolor  virginica    1.292   0.0 1.0882 1.4958   True\n",
      "---------------------------------------------------------\n"
     ]
    }
   ],
   "source": [
    "# 8. 사후검정 (Tukey HSD)\n",
    "from statsmodels.stats.multicomp import pairwise_tukeyhsd\n",
    "\n",
    "tukey_result = pairwise_tukeyhsd(iris['petal_length'], iris['species'])\n",
    "print(tukey_result)\n"
   ]
  },
  {
   "cell_type": "markdown",
   "id": "1a3e5a59",
   "metadata": {},
   "source": [
    "9. 결과 요약\n",
    "\n",
    "Shapiro-Wilk 검정 결과, 세 집단(setosa, versicolor, virginica)의 Petal Length는 모두 정규성을 만족하였다(p > 0.05). 반면, Levene 검정을 통해 등분산성이 통계적으로 유의하게 성립하지 않음이 확인되었다.(p < 0.05).\n",
    "\n",
    "이러한 조건 하에 수행된 ANOVA 결과, 세 집단 간 평균 Petal Length에 유의한 차이가 있는 것으로 나타났다. 이에 따라 귀무가설이 기각되었다.\n",
    "사후검정으로 수행한 Tukey의 HSD 결과, 각 집단 간 쌍 비교 모두에서 통계적으로 유의한 차이가 존재하였다으며, 세 집단의 평균 Petal Length는 virginica > versicolor > setosa 순으로, virginica가 가장 길고 setosa가 가장 짧았다.\n",
    "\n",
    "이와 같은 결과는 시각화된 Boxplot 및 Tukey HSD 결과와 일관된 양상을 보이며, 세 품종 간의 명확한 형태적 차이를 통계적으로도 뒷받침한다."
   ]
  },
  {
   "cell_type": "markdown",
   "id": "055be8da",
   "metadata": {},
   "source": [
    "과제 2"
   ]
  },
  {
   "cell_type": "code",
   "execution_count": 17,
   "id": "7ac2615d",
   "metadata": {},
   "outputs": [
    {
     "name": "stdout",
     "output_type": "stream",
     "text": [
      "   Time        V1        V2        V3        V4        V5        V6        V7  \\\n",
      "0   0.0 -1.359807 -0.072781  2.536347  1.378155 -0.338321  0.462388  0.239599   \n",
      "1   0.0  1.191857  0.266151  0.166480  0.448154  0.060018 -0.082361 -0.078803   \n",
      "2   1.0 -1.358354 -1.340163  1.773209  0.379780 -0.503198  1.800499  0.791461   \n",
      "3   1.0 -0.966272 -0.185226  1.792993 -0.863291 -0.010309  1.247203  0.237609   \n",
      "4   2.0 -1.158233  0.877737  1.548718  0.403034 -0.407193  0.095921  0.592941   \n",
      "\n",
      "         V8        V9  ...       V21       V22       V23       V24       V25  \\\n",
      "0  0.098698  0.363787  ... -0.018307  0.277838 -0.110474  0.066928  0.128539   \n",
      "1  0.085102 -0.255425  ... -0.225775 -0.638672  0.101288 -0.339846  0.167170   \n",
      "2  0.247676 -1.514654  ...  0.247998  0.771679  0.909412 -0.689281 -0.327642   \n",
      "3  0.377436 -1.387024  ... -0.108300  0.005274 -0.190321 -1.175575  0.647376   \n",
      "4 -0.270533  0.817739  ... -0.009431  0.798278 -0.137458  0.141267 -0.206010   \n",
      "\n",
      "        V26       V27       V28  Amount  Class  \n",
      "0 -0.189115  0.133558 -0.021053  149.62      0  \n",
      "1  0.125895 -0.008983  0.014724    2.69      0  \n",
      "2 -0.139097 -0.055353 -0.059752  378.66      0  \n",
      "3 -0.221929  0.062723  0.061458  123.50      0  \n",
      "4  0.502292  0.219422  0.215153   69.99      0  \n",
      "\n",
      "[5 rows x 31 columns]\n",
      "Class\n",
      "0    284315\n",
      "1       492\n",
      "Name: count, dtype: int64\n"
     ]
    }
   ],
   "source": [
    "# 1. 데이터 로드 및 기본 탐색\n",
    "import pandas as pd\n",
    "from sklearn.preprocessing import StandardScaler\n",
    "from sklearn.model_selection import train_test_split\n",
    "from imblearn.over_sampling import SMOTE\n",
    "from sklearn.utils import shuffle\n",
    "from sklearn.linear_model import LogisticRegression\n",
    "from sklearn.metrics import classification_report, average_precision_score\n",
    "\n",
    "df = pd.read_csv('/Users/namkuhyuk-uimacbook/Desktop/YBIGTA/creditcard.csv')\n",
    "print(df.head())\n",
    "print(df['Class'].value_counts())  # 0: 정상, 1: 사기\n",
    "\n"
   ]
  },
  {
   "cell_type": "code",
   "execution_count": 12,
   "id": "4ae8e7cb",
   "metadata": {},
   "outputs": [
    {
     "name": "stdout",
     "output_type": "stream",
     "text": [
      "Class\n",
      "0    10000\n",
      "1      492\n",
      "Name: count, dtype: int64\n",
      "Class\n",
      "0    95.310713\n",
      "1     4.689287\n",
      "Name: proportion, dtype: float64\n"
     ]
    }
   ],
   "source": [
    "# 2. 샘플링\n",
    "\n",
    "fraud = df[df['Class'] == 1]\n",
    "\n",
    "normal = df[df['Class'] == 0].sample(n=10000, random_state=42)\n",
    "\n",
    "df_sampled = pd.concat([fraud, normal], ignore_index=True)\n",
    "\n",
    "\n",
    "print(df_sampled['Class'].value_counts())\n",
    "print(df_sampled['Class'].value_counts(normalize=True) * 100)\n"
   ]
  },
  {
   "cell_type": "code",
   "execution_count": 13,
   "id": "fea6dab0",
   "metadata": {},
   "outputs": [],
   "source": [
    "# 3. 데이터 전처리 \n",
    "scaler = StandardScaler()\n",
    "df_sampled['Amount_Scaled'] = scaler.fit_transform(df_sampled[['Amount']])\n",
    "df_sampled = df_sampled.drop('Amount', axis=1)\n",
    "\n",
    "# X, y 분리\n",
    "X = df_sampled.drop('Class', axis=1)\n",
    "y = df_sampled['Class']\n"
   ]
  },
  {
   "cell_type": "code",
   "execution_count": 14,
   "id": "4f2d217c",
   "metadata": {},
   "outputs": [
    {
     "name": "stdout",
     "output_type": "stream",
     "text": [
      "Train set class distribution:\n",
      "Class\n",
      "0    7999\n",
      "1     394\n",
      "Name: count, dtype: int64\n",
      "Class\n",
      "0    95.305612\n",
      "1     4.694388\n",
      "Name: proportion, dtype: float64\n",
      "\n",
      "Test set class distribution:\n",
      "Class\n",
      "0    2001\n",
      "1      98\n",
      "Name: count, dtype: int64\n",
      "Class\n",
      "0    95.33111\n",
      "1     4.66889\n",
      "Name: proportion, dtype: float64\n"
     ]
    }
   ],
   "source": [
    "# 4. 학습 데이터와 테스트 데이터 분할\n",
    "X_train, X_test, y_train, y_test = train_test_split(X, y, test_size=0.2, stratify=y, random_state=42\n",
    ")\n",
    "\n",
    "print(\"Train set class distribution:\")\n",
    "print(y_train.value_counts())\n",
    "print(y_train.value_counts(normalize=True) * 100)\n",
    "\n",
    "print(\"\\nTest set class distribution:\")\n",
    "print(y_test.value_counts())\n",
    "print(y_test.value_counts(normalize=True) * 100)"
   ]
  },
  {
   "cell_type": "code",
   "execution_count": 15,
   "id": "5ff6e0fb",
   "metadata": {},
   "outputs": [
    {
     "name": "stdout",
     "output_type": "stream",
     "text": [
      "Before SMOTE:\n",
      "Class\n",
      "0    7999\n",
      "1     394\n",
      "Name: count, dtype: int64\n",
      "\n",
      "After SMOTE:\n",
      "Class\n",
      "1    7999\n",
      "0    7999\n",
      "Name: count, dtype: int64\n"
     ]
    }
   ],
   "source": [
    "# 5. SMOTE 적용\n",
    "\n",
    "print(\"Before SMOTE:\")\n",
    "print(y_train.value_counts())\n",
    "\n",
    "smote = SMOTE(random_state=42)\n",
    "X_train_resampled, y_train_resampled = smote.fit_resample(X_train, y_train)\n",
    "\n",
    "\n",
    "X_train_resampled, y_train_resampled = shuffle(\n",
    "    X_train_resampled, y_train_resampled, random_state=42\n",
    ")\n",
    "\n",
    "print(\"\\nAfter SMOTE:\")\n",
    "print(y_train_resampled.value_counts())\n"
   ]
  },
  {
   "cell_type": "markdown",
   "id": "57929a40",
   "metadata": {},
   "source": [
    "SMOTE 적용의 이유\n",
    "\n",
    "SMOTE를 적용하는 이유는, 현재 학습데이터에서 사기거래의 수가 현저히 적기 때문입니다. 이처럼 클래스 간 불균형이 심한 데이터를 그대로 학습에 적용하면, 모델은 대부분의 경우를 정상거래오 예측하게 되기 때문에, 실제로 중요한 사기 거래를 제대로 탐지하지 못하는 문제가 발생합니다. SMOTE를 활용하여 기존의 사기 거래 데이터와 유사한 새로운 가상의 데이터를 생성함으로써 이러한 문제점을 해결할 수 있습니다."
   ]
  },
  {
   "cell_type": "code",
   "execution_count": 16,
   "id": "f6d576ec",
   "metadata": {},
   "outputs": [
    {
     "name": "stdout",
     "output_type": "stream",
     "text": [
      "=== Classification Report ===\n",
      "              precision    recall  f1-score   support\n",
      "\n",
      "           0       1.00      0.99      0.99      2001\n",
      "           1       0.81      0.93      0.86        98\n",
      "\n",
      "    accuracy                           0.99      2099\n",
      "   macro avg       0.90      0.96      0.93      2099\n",
      "weighted avg       0.99      0.99      0.99      2099\n",
      "\n",
      "\n",
      "=== PR-AUC (Precision-Recall AUC) ===\n",
      "0.9534699504261935\n"
     ]
    },
    {
     "name": "stderr",
     "output_type": "stream",
     "text": [
      "/opt/anaconda3/lib/python3.13/site-packages/sklearn/linear_model/_logistic.py:465: ConvergenceWarning: lbfgs failed to converge (status=1):\n",
      "STOP: TOTAL NO. OF ITERATIONS REACHED LIMIT.\n",
      "\n",
      "Increase the number of iterations (max_iter) or scale the data as shown in:\n",
      "    https://scikit-learn.org/stable/modules/preprocessing.html\n",
      "Please also refer to the documentation for alternative solver options:\n",
      "    https://scikit-learn.org/stable/modules/linear_model.html#logistic-regression\n",
      "  n_iter_i = _check_optimize_result(\n"
     ]
    }
   ],
   "source": [
    "# 6. 모델 학습\n",
    "\n",
    "model = LogisticRegression(max_iter=1000, random_state=42)\n",
    "model.fit(X_train_resampled, y_train_resampled)\n",
    "\n",
    "y_pred = model.predict(X_test)\n",
    "y_proba = model.predict_proba(X_test)[:, 1]  \n",
    "\n",
    "print(\"=== Classification Report ===\")\n",
    "print(classification_report(y_test, y_pred))\n",
    "\n",
    "pr_auc = average_precision_score(y_test, y_proba)\n",
    "print(\"\\n=== PR-AUC (Precision-Recall AUC) ===\")\n",
    "print(pr_auc)\n"
   ]
  },
  {
   "cell_type": "markdown",
   "id": "ae3af7f3",
   "metadata": {},
   "source": [
    "7. 최종 성능 평가\n",
    "\n",
    "데이터 셋이 범주형 자료이며 SMOTE를 활용하여 범주간의 데이터 개수의 차이를 맞추어 주었기에 가장 기본이 되는 로지스틱 회귀를 모델로 선정하였습니다.\n",
    "테스트셋 기준으로 Recall(0.93), PR-AUC(0.95)는 달성하였지만 F1-score(0.86)으로 달성하지 못하였습니다. 하지만 전체적으로 모델은 사기 거래를 잘 탐지하고 있으며 우수한 성능을 보였습니다. 목표한 F1-score를 높이기 위해서는 예측 확률을 threshold 조정해주는 방법이 있습니다."
   ]
  }
 ],
 "metadata": {
  "kernelspec": {
   "display_name": "base",
   "language": "python",
   "name": "python3"
  },
  "language_info": {
   "codemirror_mode": {
    "name": "ipython",
    "version": 3
   },
   "file_extension": ".py",
   "mimetype": "text/x-python",
   "name": "python",
   "nbconvert_exporter": "python",
   "pygments_lexer": "ipython3",
   "version": "3.13.5"
  }
 },
 "nbformat": 4,
 "nbformat_minor": 5
}
